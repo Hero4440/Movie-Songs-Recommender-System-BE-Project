{
 "cells": [
  {
   "cell_type": "markdown",
   "id": "2273cea1",
   "metadata": {
    "id": "2273cea1"
   },
   "source": [
    "# 1) Import Libraries"
   ]
  },
  {
   "cell_type": "code",
   "execution_count": 332,
   "id": "01b19589",
   "metadata": {
    "id": "01b19589"
   },
   "outputs": [],
   "source": [
    "import random\n",
    "import pandas as pd\n",
    "import numpy as np\n",
    "import matplotlib.pyplot as plt\n",
    "from scipy.sparse import csr_matrix\n",
    "from sklearn.neighbors import NearestNeighbors"
   ]
  },
  {
   "cell_type": "markdown",
   "id": "1a22f12e",
   "metadata": {
    "id": "1a22f12e"
   },
   "source": [
    "# 2) Read Dataset"
   ]
  },
  {
   "cell_type": "code",
   "execution_count": 270,
   "id": "bb854018",
   "metadata": {
    "id": "bb854018",
    "outputId": "91f73e83-b40f-403b-89fb-cc2bc1e37cdf"
   },
   "outputs": [],
   "source": [
    "# books = pd.read_csv(\"dataset - amazon - books.csv\",sep=\";\",error_bad_lines=False, encoding=\"latin-1\", low_memory=False)\n",
    "# ratings = pd.read_csv(\"dataset - amazon - ratings.csv\",sep=\";\",error_bad_lines=False, encoding=\"latin-1\", low_memory=False)\n",
    "# users = pd.read_csv(\"dataset - amazon - users.csv\",sep=\";\",error_bad_lines=False, encoding=\"latin-1\", low_memory=False)\n",
    "\n",
    "countries_combine_pivot = pd.read_csv('implementation - presentation - booksPivot.csv', index_col=0)\n",
    "books3 = pd.read_csv('implementation - presentation - books727.csv', index_col=0)"
   ]
  },
  {
   "cell_type": "markdown",
   "id": "d150a9d1-780a-4a1a-9086-e4932674ff23",
   "metadata": {
    "jp-MarkdownHeadingCollapsed": true,
    "tags": []
   },
   "source": [
    "# ONE TIME RUN"
   ]
  },
  {
   "cell_type": "markdown",
   "id": "3999b133-e1bf-484d-aaa0-607c3062f26f",
   "metadata": {
    "jp-MarkdownHeadingCollapsed": true,
    "tags": []
   },
   "source": [
    "## Users with less than 50 ratings and books less than 100 ratings are excluded. (ONE TIME RUN)"
   ]
  },
  {
   "cell_type": "code",
   "execution_count": 262,
   "id": "87b7f4d4",
   "metadata": {
    "id": "87b7f4d4",
    "outputId": "44ff8630-6211-4c3b-b9ef-bb57c0f3804a"
   },
   "outputs": [],
   "source": [
    "# Users with less than 50 ratings are excluded:\n",
    "counts1 = ratings['User-ID'].value_counts()\n",
    "ratings1 = ratings[ratings['User-ID'].isin(counts1[counts1 >= 50].index)]\n",
    "# Books less than 100 ratings are excluded:\n",
    "counts2 = ratings['ISBN'].value_counts()\n",
    "ratings2 = ratings[ratings['ISBN'].isin(counts2[counts2 >= 100].index)]"
   ]
  },
  {
   "cell_type": "markdown",
   "id": "a7bb499b-7489-4ab3-ad54-ae30edd4aa54",
   "metadata": {
    "jp-MarkdownHeadingCollapsed": true,
    "tags": []
   },
   "source": [
    "## Collaborative Filtering Using k-Nearest Neighbors(KNN) (ONE TIME RUN)"
   ]
  },
  {
   "cell_type": "code",
   "execution_count": 263,
   "id": "e83ba24e",
   "metadata": {
    "id": "e83ba24e"
   },
   "outputs": [],
   "source": [
    "# books1:\n",
    "books1 = books[['ISBN', 'Book-Title', 'Book-Author', 'Year-Of-Publication', 'Publisher', 'Image-URL-L']]\n",
    "\n",
    "# Merge books1 & ratings2\n",
    "combine_book_rating = pd.merge(ratings2, books1, on='ISBN')\n",
    "combine_books = combine_book_rating.drop([\"Book-Author\",\"Year-Of-Publication\",\"Publisher\",\"Image-URL-L\"],axis = 1)\n",
    "\n",
    "# Added Total_Rating_Count Column\n",
    "book_ratings_count = (combine_books.groupby(by = ['Book-Title'])['Book-Rating'].count().reset_index().rename(columns = {'Book-Rating' :'Total_Rating_Count'})[['Book-Title','Total_Rating_Count']])\n",
    "book_ratings_count = book_ratings_count.sort_values(by = 'Total_Rating_Count',ascending=False)\n",
    "\n",
    "# Merge Total_Rating_Count Column df with Merge of books1 & ratings2 (combine_books)\n",
    "combine_books1 = combine_books.merge(book_ratings_count,on = 'Book-Title')\n",
    "\n",
    "# Exclude books having Total_Rating_Count less than 30:\n",
    "popularity_threshold = 30\n",
    "combine_books2 = combine_books1.query('Total_Rating_Count >= @popularity_threshold')\n",
    "\n",
    "# Merge combine_books2 with users df\n",
    "combine_books3 = combine_books2.merge(users,on='User-ID')\n",
    "\n",
    "# Include books of only 7 main countries:\n",
    "countries_combine = combine_books3[combine_books3['Location'].str.contains('usa|canada|united kingdom|germany|spain|australia|italy')]\n",
    "countries_combine = countries_combine.drop(['Age','Location'],axis = 1)\n",
    "\n",
    "\n",
    "# Creating Matrix for KNN\n",
    "countries_combine = countries_combine.drop_duplicates(['User-ID', 'Book-Title'])\n",
    "\n",
    "# countries_combine_pivot = Book-Title vs User-ID Table\n",
    "countries_combine_pivot = countries_combine.pivot(index= 'Book-Title',columns = 'User-ID',values = 'Book-Rating').fillna(0)\n",
    "\n",
    "# Uses Sparse Matrix\n",
    "countries_combine_matrix = csr_matrix(countries_combine_pivot.values)\n",
    "\n",
    "# KNN Algorithm\n",
    "knn_model = NearestNeighbors(metric = 'cosine', algorithm = 'brute')\n",
    "\n",
    "# Fit Matrix into KNN Model\n",
    "knn_model.fit(countries_combine_matrix)\n",
    "\n",
    "# Export countries_combine_pivot\n",
    "countries_combine_pivot.to_csv('implementation - presentation - booksPivot.csv', index=True)"
   ]
  },
  {
   "cell_type": "markdown",
   "id": "92399b2d-49a0-4909-a01e-2fc953950cfe",
   "metadata": {
    "jp-MarkdownHeadingCollapsed": true,
    "tags": []
   },
   "source": [
    "## ADD Avg-Rating Column (ONE TIME RUN)"
   ]
  },
  {
   "cell_type": "code",
   "execution_count": 264,
   "id": "dc44b60c-cb5f-438f-adc8-0771c711dd77",
   "metadata": {},
   "outputs": [
    {
     "name": "stderr",
     "output_type": "stream",
     "text": [
      "C:\\Users\\Lenovo\\AppData\\Local\\Programs\\Python\\Python39\\lib\\site-packages\\pandas\\core\\indexing.py:1599: SettingWithCopyWarning: \n",
      "A value is trying to be set on a copy of a slice from a DataFrame.\n",
      "Try using .loc[row_indexer,col_indexer] = value instead\n",
      "\n",
      "See the caveats in the documentation: https://pandas.pydata.org/pandas-docs/stable/user_guide/indexing.html#returning-a-view-versus-a-copy\n",
      "  self.obj[key] = infer_fill_value(value)\n",
      "C:\\Users\\Lenovo\\AppData\\Local\\Programs\\Python\\Python39\\lib\\site-packages\\pandas\\core\\indexing.py:1720: SettingWithCopyWarning: \n",
      "A value is trying to be set on a copy of a slice from a DataFrame.\n",
      "Try using .loc[row_indexer,col_indexer] = value instead\n",
      "\n",
      "See the caveats in the documentation: https://pandas.pydata.org/pandas-docs/stable/user_guide/indexing.html#returning-a-view-versus-a-copy\n",
      "  self._setitem_single_column(loc, value, pi)\n"
     ]
    }
   ],
   "source": [
    "# Find Averages of Books:\n",
    "\n",
    "# combine_books = [User-ID, ISBN, Book-Rating, Book-Title]\n",
    "# combine_books11 = exclude all the books which have 0 ratings in total\n",
    "combine_books11 = combine_books[combine_books['Book-Rating']>=1]\n",
    "# title_list = list of Book-Title of combine_books11\n",
    "title_list = list(set(combine_books11['Book-Title'].tolist()))\n",
    "\n",
    "# avg_rating = [Book-Title, Avg rating]\n",
    "avg_rating = []\n",
    "# Find avg book rating of all books and rounding the avg to 1 decimal:\n",
    "for i in title_list:\n",
    "    avg_rating.append([i,round(combine_books11[combine_books11['Book-Title']==i]['Book-Rating'].mean(),1)])\n",
    "    \n",
    "\n",
    "    \n",
    "# Remove NA values from books1\n",
    "books2 = books1.dropna()\n",
    "books2.reset_index(inplace = True, drop = True)\n",
    "\n",
    "\n",
    "# Add Avg-Rating column to books2\n",
    "for i in avg_rating:\n",
    "#     index_list = list of indices which match the Book-Title in books2\n",
    "    index_list = list(books2[books2['Book-Title']==i[0]].index)\n",
    "#     Add value to Avg-Rating column of books2 using index_list\n",
    "    books2.loc[index_list, 'Avg-Rating'] = i[1]\n",
    "    \n",
    "    \n",
    "# books3 = 1915 filtered books\n",
    "books3 = books2.dropna()\n",
    "# removed duplicate ISBN books from countries_combine\n",
    "countries_combine_ISBN_list = list(set(countries_combine.ISBN))\n",
    "books3 = books3[books3['ISBN'].isin(countries_combine_ISBN_list)]\n",
    "books3.reset_index(inplace = True, drop = True)\n",
    "books3.to_csv('implementation - presentation - books727.csv')"
   ]
  },
  {
   "cell_type": "markdown",
   "id": "1388e69f-f33a-4ed9-b272-7ab39524ad3d",
   "metadata": {
    "jp-MarkdownHeadingCollapsed": true,
    "tags": []
   },
   "source": [
    "## Find Random Book"
   ]
  },
  {
   "cell_type": "code",
   "execution_count": 222,
   "id": "80ea5b85",
   "metadata": {
    "id": "80ea5b85",
    "outputId": "5f5df3c4-1bde-4b68-f61d-a6782fc8cb5a"
   },
   "outputs": [
    {
     "name": "stdout",
     "output_type": "stream",
     "text": [
      "531\n",
      "The Last Juror\n"
     ]
    }
   ],
   "source": [
    "# Index of Book-Title from Book-Title vs User-ID Pivot Table\n",
    "query_index = np.random.choice(countries_combine_pivot.shape[0])\n",
    "# Index of Book-Title from Book-Title vs User-ID Pivot Table\n",
    "query_name = countries_combine_pivot.index[query_index]\n",
    "\n",
    "print(query_index)\n",
    "print(query_name)"
   ]
  },
  {
   "cell_type": "markdown",
   "id": "cd56f409-a336-4e74-b881-df3a00f92b19",
   "metadata": {
    "tags": []
   },
   "source": [
    "# KNN (RUN Everytime)"
   ]
  },
  {
   "cell_type": "markdown",
   "id": "d247b156-06de-4b2f-966d-2700659c22f9",
   "metadata": {
    "tags": []
   },
   "source": [
    "# Final Output"
   ]
  },
  {
   "cell_type": "code",
   "execution_count": 384,
   "id": "abcada64-d881-4db8-a89b-a87cff136ef6",
   "metadata": {},
   "outputs": [],
   "source": [
    "def runKNN(countries_combine_pivot):\n",
    "    # Uses Sparse Matrix\n",
    "    countries_combine_matrix = csr_matrix(countries_combine_pivot.values)\n",
    "    # KNN Algorithm\n",
    "    knn_model = NearestNeighbors(metric = 'cosine', algorithm = 'brute')\n",
    "    # Fit Matrix into KNN Model\n",
    "    knn_model.fit(countries_combine_matrix)\n",
    "    return knn_model\n",
    "\n",
    "\n",
    "# RECOMMENDED BOOKS LIST FOR ONE BOOK\n",
    "def recommendCollabOneBook(books3, countries_combine_pivot, ISBN, user_recommendation):\n",
    "    bookName = list(books3[books3['ISBN']==ISBN]['Book-Title'])[0]\n",
    "    query_index = list(countries_combine_pivot.index).index(bookName)\n",
    "    # countries_combine_pivot = Book-Title vs User-ID Table\n",
    "    # .iloc -> Display row of query_index with User-ID\n",
    "    # .values -> convert the .iloc to values\n",
    "    # .reshape(1,-1) -> Convert the single array into array of array\n",
    "    # .reshape(1,-1) -> .reshape(rows, columns) {1 value indicates 1 row, -1 indicates no proper value for columns}\n",
    "    countries_combine_reshape = countries_combine_pivot.iloc[query_index,:].values.reshape(1,-1)\n",
    "    # run KNN Model\n",
    "    knn_model = runKNN(countries_combine_pivot)\n",
    "    # distances and indices of output:\n",
    "    distances, indices = knn_model.kneighbors(countries_combine_reshape, n_neighbors = user_recommendation+1)\n",
    "    # Final names list for one book\n",
    "    recommend_collab_names = []\n",
    "    for i in indices[0][1:]:\n",
    "        recommend_collab_names.append(countries_combine_pivot.index[i])\n",
    "    return recommend_collab_names\n",
    "\n",
    "\n",
    "# FINAL RECOMMENDED COMBINED BOOKS LIST\n",
    "def recommendCollab(books3, countries_combine_pivot, books_list, user_recommendations):\n",
    "    # Filter 3+ ratings books    \n",
    "    high_rated_list = []\n",
    "    for i in books_list:\n",
    "        if i[1]>=3:\n",
    "            high_rated_list.append(i[0])\n",
    "    # Combine recommended books list    \n",
    "    recommend_collab_names = []\n",
    "    for i in high_rated_list:\n",
    "        recommend_collab_names = recommend_collab_names + recommendCollabOneBook(books3, countries_combine_pivot, i, user_recommendations)\n",
    "    # Final 10 recommended books list\n",
    "    # recommend_collab_names = random.sample(recommend_collab_names, user_recommendations)\n",
    "    return recommend_collab_names\n",
    "\n",
    "\n",
    "def getBooksDataframeFromNames(books3, recommend_collab_names):\n",
    "    recommend_collab = books3[books3['Book-Title'].isin(recommend_collab_names)].groupby('Book-Title').first()\n",
    "    recommend_collab = recommend_collab.sort_values(by='Avg-Rating', ascending=False)\n",
    "    recommend_collab.reset_index(inplace=True, drop=True)\n",
    "    return recommend_collab.head(10)"
   ]
  },
  {
   "cell_type": "code",
   "execution_count": 389,
   "id": "2abb01ed-12d7-4f04-9bd1-33470a45f969",
   "metadata": {},
   "outputs": [],
   "source": [
    "user_book_ISBN = list(books3.sample(5).ISBN.values)\n",
    "user_book_rating = [5,1,1,5,4]\n",
    "books_list = list(map(lambda x, y: [x,y], user_book_ISBN, user_book_rating))\n",
    "user_recommendations = 10\n",
    "\n",
    "recommend_collab_names = recommendCollab(books3, countries_combine_pivot, books_list, user_recommendations)\n",
    "recommend_collab = getBooksDataframeFromNames(books3, recommend_collab_names)"
   ]
  },
  {
   "cell_type": "code",
   "execution_count": 390,
   "id": "e4aab9d3",
   "metadata": {
    "id": "e4aab9d3"
   },
   "outputs": [
    {
     "data": {
      "text/html": [
       "<div>\n",
       "<style scoped>\n",
       "    .dataframe tbody tr th:only-of-type {\n",
       "        vertical-align: middle;\n",
       "    }\n",
       "\n",
       "    .dataframe tbody tr th {\n",
       "        vertical-align: top;\n",
       "    }\n",
       "\n",
       "    .dataframe thead th {\n",
       "        text-align: right;\n",
       "    }\n",
       "</style>\n",
       "<table border=\"1\" class=\"dataframe\">\n",
       "  <thead>\n",
       "    <tr style=\"text-align: right;\">\n",
       "      <th></th>\n",
       "      <th>ISBN</th>\n",
       "      <th>Book-Author</th>\n",
       "      <th>Year-Of-Publication</th>\n",
       "      <th>Publisher</th>\n",
       "      <th>Image-URL-L</th>\n",
       "      <th>Avg-Rating</th>\n",
       "    </tr>\n",
       "  </thead>\n",
       "  <tbody>\n",
       "    <tr>\n",
       "      <th>0</th>\n",
       "      <td>0060987561</td>\n",
       "      <td>Wally Lamb</td>\n",
       "      <td>1999</td>\n",
       "      <td>Regan Books</td>\n",
       "      <td>http://images.amazon.com/images/P/0060987561.0...</td>\n",
       "      <td>8.3</td>\n",
       "    </tr>\n",
       "    <tr>\n",
       "      <th>1</th>\n",
       "      <td>0553273914</td>\n",
       "      <td>Isabel Allende</td>\n",
       "      <td>1986</td>\n",
       "      <td>Bantam Books</td>\n",
       "      <td>http://images.amazon.com/images/P/0553273914.0...</td>\n",
       "      <td>8.2</td>\n",
       "    </tr>\n",
       "    <tr>\n",
       "      <th>2</th>\n",
       "      <td>0446672211</td>\n",
       "      <td>Billie Letts</td>\n",
       "      <td>1998</td>\n",
       "      <td>Warner Books</td>\n",
       "      <td>http://images.amazon.com/images/P/0446672211.0...</td>\n",
       "      <td>8.1</td>\n",
       "    </tr>\n",
       "    <tr>\n",
       "      <th>3</th>\n",
       "      <td>0312980140</td>\n",
       "      <td>Janet Evanovich</td>\n",
       "      <td>2002</td>\n",
       "      <td>St. Martin's Paperbacks</td>\n",
       "      <td>http://images.amazon.com/images/P/0312980140.0...</td>\n",
       "      <td>8.1</td>\n",
       "    </tr>\n",
       "    <tr>\n",
       "      <th>4</th>\n",
       "      <td>0804105820</td>\n",
       "      <td>Robert Fulghum</td>\n",
       "      <td>1993</td>\n",
       "      <td>Ivy Books</td>\n",
       "      <td>http://images.amazon.com/images/P/0804105820.0...</td>\n",
       "      <td>8.1</td>\n",
       "    </tr>\n",
       "    <tr>\n",
       "      <th>5</th>\n",
       "      <td>0373484003</td>\n",
       "      <td>Nora Roberts</td>\n",
       "      <td>2000</td>\n",
       "      <td>Silhouette</td>\n",
       "      <td>http://images.amazon.com/images/P/0373484003.0...</td>\n",
       "      <td>8.0</td>\n",
       "    </tr>\n",
       "    <tr>\n",
       "      <th>6</th>\n",
       "      <td>0515121843</td>\n",
       "      <td>Nora Roberts</td>\n",
       "      <td>2001</td>\n",
       "      <td>Jove Books</td>\n",
       "      <td>http://images.amazon.com/images/P/0515121843.0...</td>\n",
       "      <td>7.9</td>\n",
       "    </tr>\n",
       "    <tr>\n",
       "      <th>7</th>\n",
       "      <td>0375706771</td>\n",
       "      <td>Chris Bohjalian</td>\n",
       "      <td>1998</td>\n",
       "      <td>Vintage</td>\n",
       "      <td>http://images.amazon.com/images/P/0375706771.0...</td>\n",
       "      <td>7.7</td>\n",
       "    </tr>\n",
       "    <tr>\n",
       "      <th>8</th>\n",
       "      <td>0671021001</td>\n",
       "      <td>Wally Lamb</td>\n",
       "      <td>1998</td>\n",
       "      <td>Pocket</td>\n",
       "      <td>http://images.amazon.com/images/P/0671021001.0...</td>\n",
       "      <td>7.7</td>\n",
       "    </tr>\n",
       "    <tr>\n",
       "      <th>9</th>\n",
       "      <td>0679735909</td>\n",
       "      <td>A.S. BYATT</td>\n",
       "      <td>1991</td>\n",
       "      <td>Vintage</td>\n",
       "      <td>http://images.amazon.com/images/P/0679735909.0...</td>\n",
       "      <td>7.7</td>\n",
       "    </tr>\n",
       "  </tbody>\n",
       "</table>\n",
       "</div>"
      ],
      "text/plain": [
       "         ISBN      Book-Author  Year-Of-Publication                Publisher  \\\n",
       "0  0060987561       Wally Lamb                 1999              Regan Books   \n",
       "1  0553273914   Isabel Allende                 1986             Bantam Books   \n",
       "2  0446672211     Billie Letts                 1998             Warner Books   \n",
       "3  0312980140  Janet Evanovich                 2002  St. Martin's Paperbacks   \n",
       "4  0804105820   Robert Fulghum                 1993                Ivy Books   \n",
       "5  0373484003     Nora Roberts                 2000               Silhouette   \n",
       "6  0515121843     Nora Roberts                 2001               Jove Books   \n",
       "7  0375706771  Chris Bohjalian                 1998                  Vintage   \n",
       "8  0671021001       Wally Lamb                 1998                   Pocket   \n",
       "9  0679735909       A.S. BYATT                 1991                  Vintage   \n",
       "\n",
       "                                         Image-URL-L  Avg-Rating  \n",
       "0  http://images.amazon.com/images/P/0060987561.0...         8.3  \n",
       "1  http://images.amazon.com/images/P/0553273914.0...         8.2  \n",
       "2  http://images.amazon.com/images/P/0446672211.0...         8.1  \n",
       "3  http://images.amazon.com/images/P/0312980140.0...         8.1  \n",
       "4  http://images.amazon.com/images/P/0804105820.0...         8.1  \n",
       "5  http://images.amazon.com/images/P/0373484003.0...         8.0  \n",
       "6  http://images.amazon.com/images/P/0515121843.0...         7.9  \n",
       "7  http://images.amazon.com/images/P/0375706771.0...         7.7  \n",
       "8  http://images.amazon.com/images/P/0671021001.0...         7.7  \n",
       "9  http://images.amazon.com/images/P/0679735909.0...         7.7  "
      ]
     },
     "execution_count": 390,
     "metadata": {},
     "output_type": "execute_result"
    }
   ],
   "source": [
    "recommend_collab"
   ]
  },
  {
   "cell_type": "code",
   "execution_count": null,
   "id": "06dbc345-cd80-4697-8778-b6474e56bc5a",
   "metadata": {},
   "outputs": [],
   "source": []
  },
  {
   "cell_type": "markdown",
   "id": "033bda60-5247-4042-b04e-c753941b152b",
   "metadata": {},
   "source": [
    "# 1"
   ]
  },
  {
   "cell_type": "code",
   "execution_count": null,
   "id": "af43d026-b7b8-4ed0-9788-be07cef2c812",
   "metadata": {},
   "outputs": [],
   "source": []
  },
  {
   "cell_type": "code",
   "execution_count": null,
   "id": "2a73ebef-b5da-48cf-9398-bf057d271f8d",
   "metadata": {},
   "outputs": [],
   "source": []
  },
  {
   "cell_type": "code",
   "execution_count": null,
   "id": "9005f5e5-ad30-4d83-ba47-2a5ead103061",
   "metadata": {},
   "outputs": [],
   "source": []
  },
  {
   "cell_type": "code",
   "execution_count": null,
   "id": "b772ced2-70c3-4c4c-948d-9eedafb27320",
   "metadata": {},
   "outputs": [],
   "source": []
  },
  {
   "cell_type": "code",
   "execution_count": null,
   "id": "790da946-7dcb-4cfc-9480-305745b4cd1d",
   "metadata": {},
   "outputs": [],
   "source": []
  },
  {
   "cell_type": "code",
   "execution_count": 57,
   "id": "89b72f71-ef75-41fb-b4e5-8b0e43e31ac4",
   "metadata": {},
   "outputs": [],
   "source": [
    "def getImageURL(input1):\n",
    "    return books2[books2['ISBN']==input1]['Image-URL-L']"
   ]
  },
  {
   "cell_type": "code",
   "execution_count": 58,
   "id": "e70c60b8-2773-4dc4-af93-8084dfa96cbc",
   "metadata": {},
   "outputs": [
    {
     "ename": "TypeError",
     "evalue": "getImageURL() missing 1 required positional argument: 'input1'",
     "output_type": "error",
     "traceback": [
      "\u001b[1;31m---------------------------------------------------------------------------\u001b[0m",
      "\u001b[1;31mTypeError\u001b[0m                                 Traceback (most recent call last)",
      "\u001b[1;32m~\\AppData\\Local\\Temp/ipykernel_18572/2859291294.py\u001b[0m in \u001b[0;36m<module>\u001b[1;34m\u001b[0m\n\u001b[1;32m----> 1\u001b[1;33m \u001b[0mgetImageURL\u001b[0m\u001b[1;33m(\u001b[0m\u001b[1;33m)\u001b[0m\u001b[1;33m\u001b[0m\u001b[1;33m\u001b[0m\u001b[0m\n\u001b[0m",
      "\u001b[1;31mTypeError\u001b[0m: getImageURL() missing 1 required positional argument: 'input1'"
     ]
    }
   ],
   "source": [
    "getImageURL()"
   ]
  },
  {
   "cell_type": "code",
   "execution_count": null,
   "id": "8683e962-c83a-47e2-b75b-c65ae28d3d7f",
   "metadata": {},
   "outputs": [],
   "source": []
  },
  {
   "cell_type": "code",
   "execution_count": null,
   "id": "15400df7-e5a3-4890-9a67-0177e0fff5dc",
   "metadata": {},
   "outputs": [],
   "source": []
  },
  {
   "cell_type": "code",
   "execution_count": null,
   "id": "25a5336e-a6a0-4911-aab2-6a76c99d66c4",
   "metadata": {},
   "outputs": [],
   "source": []
  },
  {
   "cell_type": "code",
   "execution_count": null,
   "id": "64e1a635-04ad-4e02-83ec-4597a0378988",
   "metadata": {},
   "outputs": [],
   "source": []
  },
  {
   "cell_type": "code",
   "execution_count": null,
   "id": "275ff02c-1a60-4b13-9543-bc2542158cc1",
   "metadata": {},
   "outputs": [],
   "source": []
  },
  {
   "cell_type": "code",
   "execution_count": null,
   "id": "f16640f3-db03-4f87-a062-e6de45efc4f3",
   "metadata": {},
   "outputs": [],
   "source": []
  },
  {
   "cell_type": "code",
   "execution_count": null,
   "id": "840e23fb-d8ce-4671-a8b1-b7bedb58f9ea",
   "metadata": {},
   "outputs": [],
   "source": []
  },
  {
   "cell_type": "code",
   "execution_count": null,
   "id": "46400dc0-df97-446e-ba2b-f1c9088f58fb",
   "metadata": {},
   "outputs": [],
   "source": []
  }
 ],
 "metadata": {
  "colab": {
   "collapsed_sections": [
    "637655ee"
   ],
   "name": "Books_Recommender.ipynb",
   "provenance": []
  },
  "kernelspec": {
   "display_name": "Python 3 (ipykernel)",
   "language": "python",
   "name": "python3"
  },
  "language_info": {
   "codemirror_mode": {
    "name": "ipython",
    "version": 3
   },
   "file_extension": ".py",
   "mimetype": "text/x-python",
   "name": "python",
   "nbconvert_exporter": "python",
   "pygments_lexer": "ipython3",
   "version": "3.9.5"
  }
 },
 "nbformat": 4,
 "nbformat_minor": 5
}
